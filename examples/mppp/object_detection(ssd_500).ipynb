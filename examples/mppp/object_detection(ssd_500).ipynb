{
 "metadata": {
  "kernelspec": {
   "display_name": "Python 2",
   "language": "python",
   "name": "python2"
  },
  "language_info": {
   "codemirror_mode": {
    "name": "ipython",
    "version": 2
   },
   "file_extension": ".py",
   "mimetype": "text/x-python",
   "name": "python",
   "nbconvert_exporter": "python",
   "pygments_lexer": "ipython2",
   "version": "2.7.11"
  },
  "name": "",
  "signature": "sha256:14f1265a6062d3216eb34cd3e698b12c7a7d14070b11baf4539c20c28e7c14b6"
 },
 "nbformat": 3,
 "nbformat_minor": 0,
 "worksheets": [
  {
   "cells": [
    {
     "cell_type": "markdown",
     "metadata": {},
     "source": [
      "# Detection with SSD\n",
      "\n",
      "In this example, we will load a SSD model and use it to detect objects."
     ]
    },
    {
     "cell_type": "markdown",
     "metadata": {},
     "source": [
      "### 1. Setup\n",
      "\n",
      "* First, Load necessary libs and set up caffe and caffe_root\n",
      "caffe_root\u6539\u6210caffe\u7684\u76ee\u5f55"
     ]
    },
    {
     "cell_type": "code",
     "collapsed": false,
     "input": [
      "import numpy as np\n",
      "import matplotlib.pyplot as plt\n",
      "from demo_pose_NMS import *\n",
      "from scipy import misc\n",
      "%matplotlib inline\n",
      "\n",
      "plt.rcParams['figure.figsize'] = (10, 10)\n",
      "plt.rcParams['image.interpolation'] = 'nearest'\n",
      "plt.rcParams['image.cmap'] = 'gray'\n",
      "\n",
      "# Make sure that caffe is on the python path:\n",
      "caffe_root = '/home/git/Multi-person-pose-prediction'  # this file is expected to be in {caffe_root}/examples\n",
      "import os\n",
      "os.chdir(caffe_root)\n",
      "import sys\n",
      "sys.path.insert(0, 'python')\n",
      "\n",
      "import caffe\n",
      "caffe.set_device(0)\n",
      "caffe.set_mode_gpu()"
     ],
     "language": "python",
     "metadata": {},
     "outputs": [],
     "prompt_number": 1
    },
    {
     "cell_type": "markdown",
     "metadata": {},
     "source": [
      "* Load LabelMap."
     ]
    },
    {
     "cell_type": "code",
     "collapsed": false,
     "input": [
      "from google.protobuf import text_format\n",
      "from caffe.proto import caffe_pb2\n",
      "\n",
      "# load PASCAL VOC labels\n",
      "voc_labelmap_file = 'data/VOC0712/labelmap_voc.prototxt'\n",
      "file = open(voc_labelmap_file, 'r')\n",
      "voc_labelmap = caffe_pb2.LabelMap()\n",
      "text_format.Merge(str(file.read()), voc_labelmap)\n",
      "\n",
      "def get_labelname(labelmap, labels):\n",
      "    num_labels = len(labelmap.item)\n",
      "    labelnames = []\n",
      "    if type(labels) is not list:\n",
      "        labels = [labels]\n",
      "    for label in labels:\n",
      "        found = False\n",
      "        for i in xrange(0, num_labels):\n",
      "            if label == labelmap.item[i].label:\n",
      "                found = True\n",
      "                labelnames.append(labelmap.item[i].display_name)\n",
      "                break\n",
      "        assert found == True\n",
      "    return labelnames"
     ],
     "language": "python",
     "metadata": {},
     "outputs": [],
     "prompt_number": 2
    },
    {
     "cell_type": "markdown",
     "metadata": {},
     "source": [
      "* Load the net in the test phase for inference, and configure input preprocessing.\n",
      "\u628a\u8fd9\u91cc\u7684model_def \u548c model_weights\u6539\u6210\u6211\u4eec\u8981\u7528\u7684\u90a3\u4e2a"
     ]
    },
    {
     "cell_type": "code",
     "collapsed": false,
     "input": [
      "det_model_def = 'models/VGG_SSD/deploy.prototxt'\n",
      "det_model_weights = 'models/VGG_SSD/VGG_MPII_COCO14_SSD_500x500_iter_60000.caffemodel'\n",
      "det_net = caffe.Net(det_model_def,      # defines the structure of the model\n",
      "                det_model_weights,  # contains the trained weights\n",
      "                caffe.TEST)     # use test mode (e.g., don't perform dropout)\n",
      "\n",
      "pose_model_def = 'models/VGG_SSD/deploy.prototxt'\n",
      "pose_model_weights = 'models/VGG_SSD/VGG_MPII_COCO14_SSD_500x500_iter_60000.caffemodel'\n",
      "pose_net = caffe.Net(pose_model_def,      # defines the structure of the model\n",
      "                pose_model_weights,  # contains the trained weights\n",
      "                caffe.TEST)     # use test mode (e.g., don't perform dropout)\n",
      "\n",
      "# input preprocessing: 'data' is the name of the input blob == net.inputs[0]\n",
      "transformer = caffe.io.Transformer({'data': net.blobs['data'].data.shape})\n",
      "transformer.set_transpose('data', (2, 0, 1))\n",
      "transformer.set_mean('data', np.array([104,117,123])) # mean pixel\n",
      "transformer.set_raw_scale('data', 255)  # the reference model operates on images in [0,255] range instead of [0,1]\n",
      "transformer.set_channel_swap('data', (2,1,0))  # the reference model has channels in BGR order instead of RGB"
     ],
     "language": "python",
     "metadata": {},
     "outputs": [],
     "prompt_number": 3
    },
    {
     "cell_type": "heading",
     "level": 3,
     "metadata": {},
     "source": [
      "2. SSD detection"
     ]
    },
    {
     "cell_type": "markdown",
     "metadata": {},
     "source": [
      "* Load all image.\n",
      "image_resize \u6539\u6210500\n",
      "root_dir\u662fMPII\u7684\u7167\u7247\u7684\u6587\u4ef6\u5939\n",
      "configThred\u662f\u6846\u7684score\u7684threshold\uff0c\u9ad8\u4e8econfigThred\u7684\u624d\u80fd\u8f93\u51fa\u6765\n",
      "NMSThred \u53ef\u4ee5\u5148\u4e0d\u7528\u7ba1\u3002\u5982\u679c\u8981\u6539NMSThred\u7684\u8bdd\u5f97\u53bb\u6539deploy\u3002\u5148\u4e0d\u7528\u7ba1\n",
      "\u628alines\u90a3\u4e00\u884c\u7684open\u90a3\u91cc\u6539\u6210\u8981\u6d4b\u8bd5\u7684\u7167\u7247\u96c6\u7684txt\uff0c\u6bcf\u4e00\u884c\u662f\u4e00\u5f20\u7167\u7247\u7684\u540d\u5b57\n",
      "result\u662f\u5b58\u68c0\u6d4b\u7684\u7ed3\u679c\u3002\u6bcf\u4e00\u884c\u662f\u4e00\u5f20\u7167\u7247\u3002"
     ]
    },
    {
     "cell_type": "code",
     "collapsed": false,
     "input": [
      "# set net to batch size of 1\n",
      "import os\n",
      "image_resize = 500\n",
      "det_net.blobs['data'].reshape(1,3,image_resize,image_resize)\n",
      "idx = 0\n",
      "img_dir = \"/home/benjamin/HardDisk/data/images\"\n",
      "#if (os.path.exists(\"/home/benjamin/data/multiple_ssd/ssd_test\") == False):\n",
      " #   os.makedirs(\"/home/benjamin/data/multiple_ssd/ssd_test\")\n",
      "\n",
      "configThred = 0.09\n",
      "NMSThred = 0.45\n",
      "\n",
      "lines = [line.rstrip('\\n') .rstrip('\\r').rstrip(' ') for line in open(\"demo_images.txt\")]\n",
      "\n",
      "results = open(\"/home/benjamin/HardDisk/data/ssd_MPII_different_score/results_binary_MPII+COCO0.09_subset.txt\", 'w')\n",
      "score_file = open(\"/home/benjamin/HardDisk/data/ssd_MPII_different_score/scores_MPII+COCO0.09.txt\",'w')\n",
      "\n",
      "i = 0\n",
      "FileLength = len(lines)\n",
      "#test_index = range(2100,2300)\n",
      "start = 0\n",
      "num_images = FileLength\n",
      "items = [3,4,5,6,2,1]\n",
      "\n",
      "\n",
      "#while (i < FileLength and i < 5000):\n",
      "#    test_index.append(i)\n",
      "#    i = i + 50\n",
      "#for i in xrange(len(lines)):\n",
      "#    test_index.append(i)\n",
      "idx = 367\n",
      "num_boxes=0\n",
      "#for i in range(idx,1000):\n",
      "for i in range(0,FileLength):\n",
      "#for i in xrange(500):\n",
      "#for i in range(idx,idx+1):\n",
      "#for i in xrange(1):\n",
      "    if ((i%1000) == 0):\n",
      "        print i\n",
      "    picture = lines[i].split(\" \")\n",
      "    #\u53ea\u5199\u5230\u8fd9\u3002\u3002\u3002\n",
      "    p_name = picture[0]\n",
      "    #p_name = '.'.join([picture[0],'jpg'])\n",
      "    \n",
      "    #parent_dir = os.path.join(root_dir, p_name\n",
      "    filename = os.path.join(img_dir, p_name)\n",
      "    if (os.path.isfile(filename) == False):\n",
      "#        results.write('\\n')\n",
      "        print filename+\" does not exist.\"\n",
      "        continue\n",
      "#    filename = os.path.join(root_dir,lines[i])\n",
      "    #filename = \"/home/benjamin/data/multiple_ssd/gt/15_2\"\n",
      "    results.write(p_name)\n",
      "    results.write(' ')\n",
      "\n",
      "    image = caffe.io.load_image(filename)\n",
      "#    plt.clf()\n",
      "#    plt.imshow(image)\n",
      "    \n",
      "    #*Run the net and examine the top_k results\n",
      "\n",
      "    transformed_image = transformer.preprocess('data', image)\n",
      "    det_net.blobs['data'].data[...] = transformed_image\n",
      "    \n",
      "    # Forward pass.\n",
      "    detections = (det_net.forward()['detection_out'])\n",
      "\n",
      "    # Parse the outputs.\n",
      "    det_label = detections[0,0,:,1]\n",
      "    det_conf = detections[0,0,:,2]\n",
      "    det_xmin = detections[0,0,:,3]\n",
      "    det_ymin = detections[0,0,:,4]\n",
      "    det_xmax = detections[0,0,:,5]\n",
      "    det_ymax = detections[0,0,:,6]\n",
      "\n",
      "\n",
      "    #bound_boxes.append(boxes)\n",
      "    top_indices = [m for m, conf in enumerate(det_conf) if conf > configThred]\n",
      "    top_conf = det_conf[top_indices]\n",
      "    top_label_indices = det_label[top_indices].tolist()\n",
      "#    top_labels = get_labelname(voc_labelmap, top_label_indices)\n",
      "    top_labels = det_label[top_indices]\n",
      "    top_xmin = det_xmin[top_indices]\n",
      "    top_ymin = det_ymin[top_indices]\n",
      "    top_xmax = det_xmax[top_indices]\n",
      "    top_ymax = det_ymax[top_indices]\n",
      "\n",
      "    colors = ['b', 'g', 'r', 'c', 'm', 'y', 'k']\n",
      "\n",
      "#    plt.imshow(image)\n",
      "#    currentAxis = plt.gca()\n",
      "    \n",
      "    #num_boxes = 0\n",
      "    preds_noNMS = []\n",
      "    scores_noNMS = []\n",
      "    for k in xrange(top_conf.shape[0]):\n",
      "        label = top_labels[k]\n",
      "        if (label != 1):\n",
      "            continue\n",
      "        xmin = int(round(top_xmin[k] * image.shape[1]))\n",
      "        ymin = int(round(top_ymin[k] * image.shape[0]))\n",
      "        xmax = int(round(top_xmax[k] * image.shape[1]))\n",
      "        ymax = int(round(top_ymax[k] * image.shape[0]))\n",
      "        score = top_conf[k]\n",
      "        \n",
      "        cropped_image = cropBox(image,xmin,ymin,xmax,ymax)\n",
      "        pose_net.blobs['data'].data[...] = cropped_image\n",
      "        \n",
      "        predictions = pose_net.forward()['prediction_heatmap']\n",
      "        \n",
      "        preds_noNMS.append ([predictions[0,0,:,0],predictions[0,0,:,1]]) #16x, 16y\n",
      "        scores_noNMS.append(predictions[0,0,:,2])\n",
      "        \n",
      "        results.write(\"{} {} {} {} \".format(xmin, ymin, xmax, ymax))\n",
      "        score_file.write(\"{}\\n\".format(score))\n",
      "\n",
      "        num_boxes += 1\n",
      "    \n",
      "#    plt.savefig(\"/home/benjamin/data/ssd_MPII_different_score/COCO_MPII_noback_0.09/{}\".format(i))\n",
      "    results.write('\\n')"
     ],
     "language": "python",
     "metadata": {
      "scrolled": true
     },
     "outputs": [
      {
       "output_type": "stream",
       "stream": "stdout",
       "text": [
        "0\n",
        "Average Boxes per image: 7.55963302752\n",
        "Done\n"
       ]
      }
     ],
     "prompt_number": 4
    },
    {
     "cell_type": "heading",
     "level": 3,
     "metadata": {},
     "source": [
      "3.Run poses level NMS"
     ]
    },
    {
     "cell_type": "code",
     "collapsed": false,
     "input": [
      "    currentAxis = plt.gca()\n",
      "    #run pose level NMS with threshold of number of match keypoints\n",
      "    matchThreds = 5\n",
      "    preds, scores = PCK_NMS(preds_noNMS, scores_noNMS, matchThreds)\n",
      "    plt.imshow(image)"
     ],
     "language": "python",
     "metadata": {},
     "outputs": [],
     "prompt_number": null
    },
    {
     "cell_type": "heading",
     "level": 3,
     "metadata": {},
     "source": [
      "4.Draw the prediction results"
     ]
    },
    {
     "cell_type": "code",
     "collapsed": true,
     "input": [
      "    #pair keyppoint ids\n",
      "    pairRef = [[1,2], [2,3],[3,7],\n",
      "           [4,5], [4,7], [5,6], \n",
      "           [7,9], [9,10],\n",
      "           [14,9],[11,12],[12,13],\n",
      "           [13,9],[14,15],[15,16] ];\n",
      "    partColor = [1,1,1,2,2,2,0,0,0,0,3,3,3,4,4,4];\n",
      "    Colors = ['m', 'r', 'b', 'r', 'b']\n",
      "\n",
      "    #draw predicted pose\n",
      "    for i in xrange(len(preds)):\n",
      "        pred = preds[i].split('\\t')\n",
      "        score = scores[i].split('\\t')\n",
      "        for point_pair in pairRef:\n",
      "            x1 = float(pred[2*point_pair[0]-1]); y1 = float(pred[2*point_pair[0]])\n",
      "            x2 = float(pred[2*point_pair[1]-1]); y2 = float(pred[2*point_pair[1]])\n",
      "            s1 = float(score[point_pair[0]]); s2 = float(score[point_pair[1]])\n",
      "            if (s1 < 0.15 or s2 < 0.15):\n",
      "                continue\n",
      "            Color = Colors[partColor[point_pair[0]]]\n",
      "            plt.plot([x1,x2], [y1,y2], color = Color, lw = 2)"
     ],
     "language": "python",
     "metadata": {},
     "outputs": [],
     "prompt_number": null
    },
    {
     "cell_type": "code",
     "collapsed": true,
     "input": [],
     "language": "python",
     "metadata": {},
     "outputs": [],
     "prompt_number": null
    },
    {
     "cell_type": "code",
     "collapsed": true,
     "input": [],
     "language": "python",
     "metadata": {},
     "outputs": [],
     "prompt_number": null
    },
    {
     "cell_type": "code",
     "collapsed": true,
     "input": [],
     "language": "python",
     "metadata": {},
     "outputs": [],
     "prompt_number": null
    }
   ],
   "metadata": {}
  }
 ]
}